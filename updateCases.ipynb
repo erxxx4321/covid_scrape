{
 "cells": [
  {
   "cell_type": "code",
   "execution_count": 1,
   "id": "1196ba98",
   "metadata": {},
   "outputs": [
    {
     "data": {
      "text/plain": [
       "'6/12,50643'"
      ]
     },
     "execution_count": 1,
     "metadata": {},
     "output_type": "execute_result"
    }
   ],
   "source": [
    "from datetime import datetime\n",
    "import selenium\n",
    "from selenium import webdriver\n",
    "from selenium.webdriver.chrome.service import Service\n",
    "from selenium.webdriver.common.by import By\n",
    "from selenium.webdriver.support.ui import WebDriverWait\n",
    "from selenium.webdriver.support import expected_conditions as EC\n",
    "\n",
    "s=Service('C:/Users/chromedriver.exe')\n",
    "driver = webdriver.Chrome(service=s)\n",
    "driver.get(\"https://covid-19.nchc.org.tw/\")\n",
    "pause_time = 0.5\n",
    "\n",
    "element = WebDriverWait(driver, 5000).until(\n",
    "    EC.presence_of_element_located((By.XPATH, '/html/body/div[3]/div/div[3]/p/span/small'))\n",
    ")\n",
    "\n",
    "month = datetime.now().strftime(\"%m\")\n",
    "date = datetime.now().strftime(\"%d\")\n",
    "\n",
    "if int(month) < 10:\n",
    "    month = month[1:]\n",
    "\n",
    "if int(date) < 10:\n",
    "    date = date[1:]\n",
    "\n",
    "cases = element.text.split(\" \")[1]\n",
    "\n",
    "covid_data = f'{month}/{date},{cases}'\n",
    "\n",
    "covid_data"
   ]
  },
  {
   "cell_type": "code",
   "execution_count": 2,
   "id": "bfeffeff",
   "metadata": {},
   "outputs": [],
   "source": [
    "with open('covid_case.csv', mode='a') as file:\n",
    "    file.writelines(covid_data + '\\n')"
   ]
  },
  {
   "cell_type": "code",
   "execution_count": null,
   "id": "f2a08e29",
   "metadata": {},
   "outputs": [],
   "source": [
    "from datetime import datetime\n",
    "import selenium\n",
    "from selenium import webdriver\n",
    "from selenium.webdriver.chrome.service import Service\n",
    "from selenium.webdriver.common.by import By\n",
    "from selenium.webdriver.support.ui import WebDriverWait\n",
    "from selenium.webdriver.support import expected_conditions as EC\n",
    "\n",
    "s=Service('C:/Users/chromedriver.exe')\n",
    "driver = webdriver.Chrome(service=s)\n",
    "driver.get(\"https://covid-19.nchc.org.tw/\")\n",
    "pause_time = 0.5\n",
    "\n",
    "elements = WebDriverWait(driver, 5000).until(\n",
    "    EC.presence_of_element_located((By.CLASS_NAME, 'country_confirmed_percent'))\n",
    ")\n",
    "\n",
    "elements"
   ]
  },
  {
   "cell_type": "code",
   "execution_count": null,
   "id": "66d73910",
   "metadata": {},
   "outputs": [],
   "source": []
  }
 ],
 "metadata": {
  "kernelspec": {
   "display_name": "Python 3 (ipykernel)",
   "language": "python",
   "name": "python3"
  },
  "language_info": {
   "codemirror_mode": {
    "name": "ipython",
    "version": 3
   },
   "file_extension": ".py",
   "mimetype": "text/x-python",
   "name": "python",
   "nbconvert_exporter": "python",
   "pygments_lexer": "ipython3",
   "version": "3.7.11"
  }
 },
 "nbformat": 4,
 "nbformat_minor": 5
}
{
 "cells": [
  {
   "cell_type": "code",
   "execution_count": 1,
   "id": "1196ba98",
   "metadata": {},
   "outputs": [
    {
     "data": {
      "text/plain": [
       "'6/12,50643'"
      ]
     },
     "execution_count": 1,
     "metadata": {},
     "output_type": "execute_result"
    }
   ],
   "source": [
    "from datetime import datetime\n",
    "import selenium\n",
    "from selenium import webdriver\n",
    "from selenium.webdriver.chrome.service import Service\n",
    "from selenium.webdriver.common.by import By\n",
    "from selenium.webdriver.support.ui import WebDriverWait\n",
    "from selenium.webdriver.support import expected_conditions as EC\n",
    "\n",
    "s=Service('C:/Users/chromedriver.exe')\n",
    "driver = webdriver.Chrome(service=s)\n",
    "driver.get(\"https://covid-19.nchc.org.tw/\")\n",
    "pause_time = 0.5\n",
    "\n",
    "element = WebDriverWait(driver, 5000).until(\n",
    "    EC.presence_of_element_located((By.XPATH, '/html/body/div[3]/div/div[3]/p/span/small'))\n",
    ")\n",
    "\n",
    "month = datetime.now().strftime(\"%m\")\n",
    "date = datetime.now().strftime(\"%d\")\n",
    "\n",
    "if int(month) < 10:\n",
    "    month = month[1:]\n",
    "\n",
    "if int(date) < 10:\n",
    "    date = date[1:]\n",
    "\n",
    "cases = element.text.split(\" \")[1]\n",
    "\n",
    "covid_data = f'{month}/{date},{cases}'\n",
    "\n",
    "covid_data"
   ]
  },
  {
   "cell_type": "code",
   "execution_count": 2,
   "id": "bfeffeff",
   "metadata": {},
   "outputs": [],
   "source": [
    "with open('covid_case.csv', mode='a') as file:\n",
    "    file.writelines(covid_data + '\\n')"
   ]
  },
  {
   "cell_type": "code",
   "execution_count": null,
   "id": "f2a08e29",
   "metadata": {},
   "outputs": [],
   "source": [
    "from datetime import datetime\n",
    "import selenium\n",
    "from selenium import webdriver\n",
    "from selenium.webdriver.chrome.service import Service\n",
    "from selenium.webdriver.common.by import By\n",
    "from selenium.webdriver.support.ui import WebDriverWait\n",
    "from selenium.webdriver.support import expected_conditions as EC\n",
    "\n",
    "s=Service('C:/Users/chromedriver.exe')\n",
    "driver = webdriver.Chrome(service=s)\n",
    "driver.get(\"https://covid-19.nchc.org.tw/\")\n",
    "pause_time = 0.5\n",
    "\n",
    "elements = WebDriverWait(driver, 5000).until(\n",
    "    EC.presence_of_element_located((By.CLASS_NAME, 'country_confirmed_percent'))\n",
    ")\n",
    "\n",
    "elements"
   ]
  },
  {
   "cell_type": "code",
   "execution_count": null,
   "id": "66d73910",
   "metadata": {},
   "outputs": [],
   "source": []
  }
 ],
 "metadata": {
  "kernelspec": {
   "display_name": "Python 3 (ipykernel)",
   "language": "python",
   "name": "python3"
  },
  "language_info": {
   "codemirror_mode": {
    "name": "ipython",
    "version": 3
   },
   "file_extension": ".py",
   "mimetype": "text/x-python",
   "name": "python",
   "nbconvert_exporter": "python",
   "pygments_lexer": "ipython3",
   "version": "3.7.11"
  }
 },
 "nbformat": 4,
 "nbformat_minor": 5
}
