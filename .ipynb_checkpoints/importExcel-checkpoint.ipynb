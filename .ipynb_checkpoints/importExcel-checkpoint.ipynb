{
 "cells": [
  {
   "cell_type": "code",
   "execution_count": 1,
   "id": "c84c7cf2",
   "metadata": {
    "scrolled": true
   },
   "outputs": [
    {
     "data": {
      "text/plain": [
       "True"
      ]
     },
     "execution_count": 1,
     "metadata": {},
     "output_type": "execute_result"
    }
   ],
   "source": [
    "from datetime import datetime, timedelta\n",
    "import win32com.client as client\n",
    "\n",
    "excelapp = client.Dispatch(\"Excel.Application\")\n",
    "excelapp.Visible = True\n",
    "\n",
    "date = datetime.now();\n",
    "\n",
    "if (datetime.today().weekday() == 6)\n",
    "{\n",
    "    date = datetime.now() - timedelta(days=2)\n",
    "}\n",
    "\n",
    "m = date.now().strftime(\"%m\")\n",
    "d = date.now().strftime(\"%d\")\n",
    "\n",
    "workbook = excelapp.Workbooks.Open(fr\"C:\\Users\\u0198\\Desktop\\自動化開發\\udn_scrap\\複本 0 確診隔離人數統計{m}{d}.xlsx\")\n",
    "# workbook = excelapp.Workbooks.Open(fr\"C:\\Users\\u0198\\Desktop\\自動化開發\\udn_scrap\\複本 0 確診隔離人數統計0527.xlsx\")\n",
    "sheet1 = workbook.Worksheets(1)\n",
    "sheet1.Range(\"A1:H13\").Copy()"
   ]
  },
  {
   "cell_type": "code",
   "execution_count": 2,
   "id": "6ede6a01",
   "metadata": {},
   "outputs": [],
   "source": [
    "from win32com.client import constants \n",
    "\n",
    "powerpoint_object = client.Dispatch(\"Powerpoint.Application\")\n",
    "# powerpoint_object.visible = True\n",
    "\n",
    "m = datetime.now().strftime(\"%m\")\n",
    "d = datetime.now().strftime(\"%d\")\n",
    "\n",
    "powerpoint_presentation = powerpoint_object.Presentations.Open(fr'C:\\Users\\u0198\\Desktop\\自動化開發\\udn_scrap\\新冠即時訊息({m}{d}).pptx')\n",
    "\n",
    "ptpaste = powerpoint_presentation.slides[3].Shapes.PasteSpecial(DataType=2)\n",
    "ptpaste.ScaleWidth(1.8, 2.3)\n",
    "ptpaste.ScaleHeight(1.8, 2.3)"
   ]
  },
  {
   "cell_type": "code",
   "execution_count": 6,
   "id": "986e935f",
   "metadata": {},
   "outputs": [
    {
     "data": {
      "text/plain": [
       "datetime.datetime(2022, 5, 28, 16, 57, 20, 984216)"
      ]
     },
     "execution_count": 6,
     "metadata": {},
     "output_type": "execute_result"
    }
   ],
   "source": [
    "# from datetime import datetime, timedelta\n",
    "# date_N_days_ago = datetime.now() - timedelta(days=2)\n",
    "\n",
    "# date_N_days_ago"
   ]
  },
  {
   "cell_type": "code",
   "execution_count": null,
   "id": "aea05ddb",
   "metadata": {},
   "outputs": [],
   "source": []
  }
 ],
 "metadata": {
  "kernelspec": {
   "display_name": "Python 3 (ipykernel)",
   "language": "python",
   "name": "python3"
  },
  "language_info": {
   "codemirror_mode": {
    "name": "ipython",
    "version": 3
   },
   "file_extension": ".py",
   "mimetype": "text/x-python",
   "name": "python",
   "nbconvert_exporter": "python",
   "pygments_lexer": "ipython3",
   "version": "3.7.11"
  }
 },
 "nbformat": 4,
 "nbformat_minor": 5
}
